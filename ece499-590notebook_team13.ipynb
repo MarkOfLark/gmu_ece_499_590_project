{
 "cells": [
  {
   "cell_type": "markdown",
   "metadata": {},
   "source": [
    "# ECE 499/590 Final Project\n",
    "## Team 13 - Mark E. McDermott, Jose A. Velasquez-Principe"
   ]
  },
  {
   "cell_type": "markdown",
   "metadata": {},
   "source": [
    "---\n",
    "Imports used for rest of project code"
   ]
  },
  {
   "cell_type": "code",
   "execution_count": 95,
   "metadata": {},
   "outputs": [],
   "source": [
    "import pymongo\n",
    "import IPython.display as ipd\n",
    "import pydub\n",
    "import io\n",
    "import requests\n",
    "import time\n",
    "\n",
    "import numpy as np\n",
    "import scipy.signal as signal\n",
    "import matplotlib.pyplot as plt\n",
    "%matplotlib inline\n",
    "\n",
    "import findspark\n",
    "findspark.init()\n",
    "from pyspark.sql import SparkSession\n",
    "from pyspark.sql.functions import udf\n",
    "from pyspark.sql.functions import col\n",
    "from pyspark.sql.functions import lit\n",
    "from pyspark.sql import Row\n",
    "from pyspark.sql.types import BooleanType, ArrayType, DoubleType"
   ]
  },
  {
   "cell_type": "markdown",
   "metadata": {},
   "source": [
    "---\n",
    "# Part 1\n",
    "## Functions"
   ]
  },
  {
   "cell_type": "code",
   "execution_count": 103,
   "metadata": {},
   "outputs": [],
   "source": [
    "# This function is annotated with 'udf' and a return type which tell Spark the information\n",
    "# it needs to know in order to run it. The arguments: 'file_url', 'filter_edges', and\n",
    "# 'filter_amplitudes' all correspond to columns in the DataFrame. This is what allows\n",
    "# Spark to call this function in parallel on each row in the DataFrame.\n",
    "\n",
    "# This function first downloads the full MP3 file from xeno-canto. Because this is\n",
    "# being done in the Spark context it is less wasteful. The alternative would have been\n",
    "# to download the file in the local Python environment and then load it into the Spark\n",
    "# DataFrame, thus doing extra transfers of memory.\n",
    "\n",
    "# After loading the file, the samples are filtered using a DSP filter defined by\n",
    "# the 'filter_edges' and 'filter_amplitudes' entries of each row. The filter is\n",
    "# designed using Scipy's REMEZ function which is an implementation of the Parks-\n",
    "# Mclellen algorithm.\n",
    "\n",
    "# Finally the filtered file is converted back into a raw Python list and returned.\n",
    "# This is done because Spark will append this result onto the DataFrame over which\n",
    "# this function was called.\n",
    "\n",
    "@udf(returnType=ArrayType(DoubleType()))\n",
    "def load_and_filter(file_url, filter_edges, filter_amplitudes):\n",
    "    print(type(file_url), type(filter_edges), type(filter_amplitudes))\n",
    "    \n",
    "    # Download File From xeno-canto\n",
    "    print('Downloading mp3 file: ' + file_url)\n",
    "    mp3_file = requests.get('https:' + file_url).content\n",
    "    \n",
    "    # Load parameters and samples from file\n",
    "    sound = pydub.AudioSegment.from_mp3( io.BytesIO( mp3_file ) )\n",
    "    fs=sound.frame_rate\n",
    "    samples = np.array( sound.get_array_of_samples() )\n",
    "    samples = samples / np.max( np.abs( samples ) )\n",
    "    \n",
    "    print(f'Got file with {len(samples)} samples at sampling rate {fs}')\n",
    "    \n",
    "    # Define a FIR filter using the parameters from the dataframe row\n",
    "    # and filter the signal from the MP3 file\n",
    "    numtaps = 500 \n",
    "    b = signal.remez(numtaps, np.array( filter_edges ) * fs, filter_amplitudes, Hz=fs)\n",
    "    filtered_samples = signal.lfilter(b,1,samples)\n",
    "    \n",
    "    print('Finished filtering')\n",
    "    # Return the filtered samples by converting into a basic\n",
    "    # Python list.\n",
    "    return filtered_samples.tolist()"
   ]
  },
  {
   "cell_type": "code",
   "execution_count": 104,
   "metadata": {},
   "outputs": [],
   "source": [
    "# This function is executed in the local Python environment and represents one way in\n",
    "# which our architecture could be implemented. Each step is commented and each step\n",
    "# implements part of the flow chart included in the project paper.\n",
    "\n",
    "# Whenever new files are to be fetched from xeno-canto the fetching and filtering is\n",
    "# offloaded to Spark using the UDF above.\n",
    "\n",
    "def load_filtered_files(\n",
    "    xeno_canto_query_response,\n",
    "    num_results_to_load,\n",
    "    filter_edges,\n",
    "    filter_amplitudes,\n",
    "    spark,\n",
    "    db,\n",
    "    db_collection\n",
    "):\n",
    "    \n",
    "    # Make a local connection to mongo to see if entries already exist\n",
    "    mongo_client = pymongo.MongoClient(\"mongodb://localhost:27017/\")\n",
    "    mongo_collection = mongo_client[db][db_collection]\n",
    "    \n",
    "    # Loop over requests and build a query list for files that aren't already in the cache\n",
    "    all_ids = []\n",
    "    new_entries = []\n",
    "    for i in range( 0, num_results_to_load ):\n",
    "        resp_entry = xeno_canto_query_response['recordings'][i]\n",
    "        id_to_find = resp_entry['id']\n",
    "        all_ids.append( id_to_find )\n",
    "        \n",
    "        entry_found = mongo_collection.count_documents( {\n",
    "            'id': id_to_find, # Each entry from xeno-canto has unque ID so we match using that\n",
    "            'filter_edges': filter_edges, # We also need to ensure that we have matched the filter edges\n",
    "            'filter_amplitudes': filter_amplitudes # ... and, of course, the filter amplitudes.\n",
    "        } )\n",
    "        \n",
    "        print(f'{i}: Found entry for id {id_to_find}: {0 != entry_found}' )\n",
    "        \n",
    "        # If no matching entry is found then add it to the list of new entries to fetch\n",
    "        if 0 == entry_found:\n",
    "            new_entry = resp_entry\n",
    "            new_entry['filter_edges'] = filter_edges\n",
    "            new_entry['filter_amplitudes'] = filter_amplitudes\n",
    "            \n",
    "            new_entries.append( new_entry )\n",
    "            \n",
    "    # Create a Spark DataFrame from the list of new entries\n",
    "    # Note, that we still haven't downloaded the actual mp3 files since\n",
    "    # we want to move that processing and bandwidth load to the cluster.\n",
    "    if 0 < len( new_entries ):\n",
    "        print('Creating Spark dataFrame for new entries')\n",
    "        intermediate_df = spark.createDataFrame(Row(**x) for x in new_entries)\n",
    "    \n",
    "        # Call User Defined Function on Spark Cluster to load the file and apply the filter\n",
    "        print('Applying DSP Filters')\n",
    "        new_df = intermediate_df.select(\n",
    "            '*',\n",
    "            load_and_filter('file', 'filter_edges', 'filter_amplitudes').alias('file_content')\n",
    "        )\n",
    "    \n",
    "        # Store new results into MongoDB\n",
    "        print('Saving new results to MongoDB')\n",
    "        new_df.write \\\n",
    "            .format(\"mongo\") \\\n",
    "            .mode(\"append\") \\\n",
    "            .option(\"database\",db) \\\n",
    "            .option(\"collection\", db_collection) \\\n",
    "            .save()\n",
    "    \n",
    "    # Load dataframe that has all of the ids of interest\n",
    "    print('Loading cached results')\n",
    "    df = spark.read \\\n",
    "        .format(\"com.mongodb.spark.sql.DefaultSource\") \\\n",
    "        .option(\"database\",db) \\\n",
    "        .option(\"collection\",db_collection) \\\n",
    "        .load()\n",
    "    \n",
    "    # Filter for only the IDs that were found in our initial query\n",
    "    subset_df = df.filter( df.id.isin( all_ids ) )\n",
    "    \n",
    "    return subset_df"
   ]
  },
  {
   "cell_type": "markdown",
   "metadata": {},
   "source": [
    "---\n",
    "# Part 2\n",
    "## Priming the Cache with some data\n",
    "\n",
    "To prime the chache (for demonstration purposes) change the database name to something unique and then run a query for a few sound files. Make sure the total number of sound files is less than the number you want to query later so that we can be sure that files will be drawn from the cache later."
   ]
  },
  {
   "cell_type": "code",
   "execution_count": 73,
   "metadata": {},
   "outputs": [],
   "source": [
    "# Set this to something unique each time you run the demonstration.\n",
    "# If you don't change this then you won't start out with an empty\n",
    "# cache and the demonstration will be less meaningful.\n",
    "db_name = 'ece590_3'\n",
    "db_collection_name = 'filtered_cache'\n",
    "\n",
    "# Create the spark session\n",
    "uri = 'mongodb://127.0.0.1/'+ db_name + '.' + db_collection_name\n",
    "spark = SparkSession \\\n",
    "    .builder \\\n",
    "    .appName(db_name) \\\n",
    "    .config(\"spark.mongodb.input.uri\", uri) \\\n",
    "    .config(\"spark.mongodb.output.uri\", uri) \\\n",
    "    .config('spark.jars.packages', 'org.mongodb.spark:mongo-spark-connector_2.11:2.4.1') \\\n",
    "    .getOrCreate()"
   ]
  },
  {
   "cell_type": "code",
   "execution_count": 71,
   "metadata": {},
   "outputs": [],
   "source": [
    "# Collect results from xeno-canto.org (this doesn't download the mp3 files, just the metadata)\n",
    "# Note: we originally had this as the first step in 'load_filtered_files()' but this caused\n",
    "# undue traffic to the xeno-canto website and they began to throttle our connection. The response\n",
    "# has over 200 entries of meta-data.\n",
    "response = requests.get('https://www.xeno-canto.org/api/2/recordings?query=cnt:\"united states\"+len:10').json()"
   ]
  },
  {
   "cell_type": "code",
   "execution_count": 74,
   "metadata": {},
   "outputs": [
    {
     "name": "stdout",
     "output_type": "stream",
     "text": [
      "0: Found entry for id 452576: False\n",
      "1: Found entry for id 173313: False\n",
      "Creating Spark dataFrame for new entries\n",
      "Applying DSP Filters\n",
      "Saving new results to MongoDB\n",
      "Loading cached results\n",
      "+------+\n",
      "|    id|\n",
      "+------+\n",
      "|452576|\n",
      "|173313|\n",
      "+------+\n",
      "\n"
     ]
    }
   ],
   "source": [
    "filter_edges = [0.0, 0.09, 0.1, 0.2, 0.21, 0.5]\n",
    "filter_amplitudes = [0.0, 1.0, 0.0]\n",
    "\n",
    "df = load_filtered_files(\n",
    "    response,\n",
    "    2, # Only download the first two files.\n",
    "    filter_edges,\n",
    "    filter_amplitudes,\n",
    "    spark,\n",
    "    db_name,\n",
    "    db_collection_name\n",
    ")\n",
    "\n",
    "df.select('id').show()"
   ]
  },
  {
   "cell_type": "markdown",
   "metadata": {},
   "source": [
    "---\n",
    "# Part 3\n",
    "## Requesting for more entries with some entries coming from the cache\n",
    "Before we had made a request for the first two results just to prime the cache. Now we ask for 4. Observe in the output that the first two entries are found in the cache and just do not require downloading and filtering."
   ]
  },
  {
   "cell_type": "code",
   "execution_count": 75,
   "metadata": {},
   "outputs": [
    {
     "name": "stdout",
     "output_type": "stream",
     "text": [
      "0: Found entry for id 452576: True\n",
      "1: Found entry for id 173313: True\n",
      "2: Found entry for id 218556: False\n",
      "3: Found entry for id 359456: False\n",
      "Creating Spark dataFrame for new entries\n",
      "Applying DSP Filters\n",
      "Saving new results to MongoDB\n",
      "Loading cached results\n",
      "Fetched in 34.5435 seconds\n",
      "+------+\n",
      "|    id|\n",
      "+------+\n",
      "|452576|\n",
      "|173313|\n",
      "|359456|\n",
      "|218556|\n",
      "+------+\n",
      "\n"
     ]
    }
   ],
   "source": [
    "tic = time.perf_counter()\n",
    "\n",
    "df = load_filtered_files(\n",
    "    response,\n",
    "    4,\n",
    "    filter_edges,\n",
    "    filter_amplitudes,\n",
    "    spark,\n",
    "    db_name,\n",
    "    db_collection_name\n",
    ")\n",
    "\n",
    "toc = time.perf_counter()\n",
    "print(f'Fetched in {toc - tic:0.4f} seconds')\n",
    "\n",
    "df.select('id').show()"
   ]
  },
  {
   "cell_type": "markdown",
   "metadata": {},
   "source": [
    "If we make this same request again we can see that it is much faster since all of the files come from the cache"
   ]
  },
  {
   "cell_type": "code",
   "execution_count": 76,
   "metadata": {},
   "outputs": [
    {
     "name": "stdout",
     "output_type": "stream",
     "text": [
      "0: Found entry for id 452576: True\n",
      "1: Found entry for id 173313: True\n",
      "2: Found entry for id 218556: True\n",
      "3: Found entry for id 359456: True\n",
      "Loading cached results\n",
      "Fetched in 1.3918 seconds\n",
      "+------+\n",
      "|    id|\n",
      "+------+\n",
      "|452576|\n",
      "|173313|\n",
      "|359456|\n",
      "|218556|\n",
      "+------+\n",
      "\n"
     ]
    }
   ],
   "source": [
    "tic = time.perf_counter()\n",
    "\n",
    "df = load_filtered_files(\n",
    "    response,\n",
    "    4,\n",
    "    filter_edges,\n",
    "    filter_amplitudes,\n",
    "    spark,\n",
    "    db_name,\n",
    "    db_collection_name\n",
    ")\n",
    "\n",
    "toc = time.perf_counter()\n",
    "print(f'Fetched in {toc - tic:0.4f} seconds')\n",
    "\n",
    "df.select('id').show()"
   ]
  },
  {
   "cell_type": "markdown",
   "metadata": {},
   "source": [
    "---\n",
    "# Part 4\n",
    "## Visualization of results\n",
    "\n",
    "Now that we have a dataframe that contains all of the filtered files we can either process those locally or if we have additional DSP transformations to perform those can be offloaded to Spark as well by writing additional User Defined Functions.\n",
    "\n",
    "In the example below we write a user defined function that takes the FFT of each signal using Spark and then returns a dataframe so that we can make a local visualization of it."
   ]
  },
  {
   "cell_type": "code",
   "execution_count": 97,
   "metadata": {},
   "outputs": [],
   "source": [
    "# A Spark UDF function that takes a signal array and a parameter for how big and\n",
    "# FFT to perform.\n",
    "@udf(returnType=ArrayType(DoubleType()))\n",
    "def get_magnitude_spectrum( signal, Nfft ):\n",
    "    return np.abs( np.fft.fft( np.array( signal ), n=Nfft ) ).tolist()"
   ]
  },
  {
   "cell_type": "code",
   "execution_count": 105,
   "metadata": {},
   "outputs": [],
   "source": [
    "# Run the Spark UDF on the new DataFrame using just the column 'file_content' which\n",
    "# contains the filtered signals and save the resulting magnitude spectrum into\n",
    "# a new column name 'mag' and then collect results into our local Python instance.\n",
    "\n",
    "# This call differs from the first UDF we demonstrated because we use the 'lit' function\n",
    "# from Spark. This allows us to pass parameters to the UDF that are not columns in the\n",
    "# DataFrame.\n",
    "Nfft = 4096\n",
    "spec = df.select( 'id', get_magnitude_spectrum('file_content', lit(Nfft) ).alias('mag') ).collect()"
   ]
  },
  {
   "cell_type": "code",
   "execution_count": 106,
   "metadata": {},
   "outputs": [
    {
     "data": {
      "text/plain": [
       "Text(0, 0.5, 'Spectrum Magnitude (dB)')"
      ]
     },
     "execution_count": 106,
     "metadata": {},
     "output_type": "execute_result"
    },
    {
     "data": {
      "image/png": "[encoded data removed]",
      "text/plain": [
       "<Figure size 432x288 with 1 Axes>"
      ]
     },
     "metadata": {
      "needs_background": "light"
     },
     "output_type": "display_data"
    }
   ],
   "source": [
    "for row in spec:\n",
    "    plt.plot(\n",
    "        np.linspace(0,48000/2,int(Nfft/2)), \n",
    "        10*np.log10( np.array( row['mag'] ) )[:int(Nfft/2)],\n",
    "        label='id=' + row['id']\n",
    "    )\n",
    "\n",
    "plt.legend()\n",
    "plt.grid()\n",
    "plt.xlabel('Frequency (Hz)')\n",
    "plt.ylabel('Spectrum Magnitude (dB)')"
   ]
  },
  {
   "cell_type": "code",
   "execution_count": null,
   "metadata": {},
   "outputs": [],
   "source": []
  }
 ],
 "metadata": {
  "kernelspec": {
   "display_name": "Python 3",
   "language": "python",
   "name": "python3"
  },
  "language_info": {
   "codemirror_mode": {
    "name": "ipython",
    "version": 3
   },
   "file_extension": ".py",
   "mimetype": "text/x-python",
   "name": "python",
   "nbconvert_exporter": "python",
   "pygments_lexer": "ipython3",
   "version": "3.7.4"
  }
 },
 "nbformat": 4,
 "nbformat_minor": 2
}
